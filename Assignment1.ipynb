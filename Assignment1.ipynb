{
 "cells": [
  {
   "cell_type": "markdown",
   "metadata": {},
   "source": [
    "# Assignment 1:"
   ]
  },
  {
   "cell_type": "markdown",
   "metadata": {},
   "source": [
    "#### 1. Write a program to swap 2 numbers"
   ]
  },
  {
   "cell_type": "code",
   "execution_count": 4,
   "metadata": {},
   "outputs": [
    {
     "name": "stdout",
     "output_type": "stream",
     "text": [
      "3 1\n"
     ]
    }
   ],
   "source": [
    "def swap(a:int,b:int):\n",
    "    a=a+b\n",
    "    b=a-b\n",
    "    a=a-b\n",
    "    print(a,b)\n",
    "\n",
    "swap(1,3)"
   ]
  },
  {
   "cell_type": "markdown",
   "metadata": {},
   "source": [
    "#### 2. Write a program to calaculate sum of digits of given three digit number"
   ]
  },
  {
   "cell_type": "code",
   "execution_count": 7,
   "metadata": {},
   "outputs": [
    {
     "data": {
      "text/plain": [
       "6"
      ]
     },
     "execution_count": 7,
     "metadata": {},
     "output_type": "execute_result"
    }
   ],
   "source": [
    "def sum_of(string):\n",
    "    sum1=0\n",
    "    for i in string:\n",
    "        sum1+=int(i)\n",
    "    return sum1\n",
    "\n",
    "sum_of(\"123\")"
   ]
  },
  {
   "cell_type": "markdown",
   "metadata": {},
   "source": [
    "#### 3. Find if given number is even or odd"
   ]
  },
  {
   "cell_type": "code",
   "execution_count": 9,
   "metadata": {},
   "outputs": [
    {
     "name": "stdout",
     "output_type": "stream",
     "text": [
      "Number is even\n"
     ]
    }
   ],
   "source": [
    "def even_or_odd(n):\n",
    "    if n%2 ==0:\n",
    "        print(\"Number is even\")\n",
    "    else:\n",
    "        print(\"Nmumber is Odd\")\n",
    "\n",
    "even_or_odd(2)"
   ]
  },
  {
   "cell_type": "markdown",
   "metadata": {},
   "source": [
    "#### 4. Print grade of student based on his marks (e.g. 76 is DISTINCTION 54 is SECOND CLASS 41 is PASS CLASS)"
   ]
  },
  {
   "cell_type": "code",
   "execution_count": 10,
   "metadata": {},
   "outputs": [
    {
     "name": "stdout",
     "output_type": "stream",
     "text": [
      "FAIL\n"
     ]
    }
   ],
   "source": [
    "def grader(n):\n",
    "    if n > 75 :\n",
    "        print(\"Distinction\")\n",
    "    elif n > 50:\n",
    "        print(\"Second class\")\n",
    "    elif n > 35:\n",
    "        print(\"Pass Class\")\n",
    "    else:\n",
    "        print(\"FAIL\")\n",
    "\n",
    "grader(20)"
   ]
  },
  {
   "cell_type": "markdown",
   "metadata": {},
   "source": [
    "#### 5. Calculate factorial of number"
   ]
  },
  {
   "cell_type": "code",
   "execution_count": 11,
   "metadata": {},
   "outputs": [
    {
     "data": {
      "text/plain": [
       "6"
      ]
     },
     "execution_count": 11,
     "metadata": {},
     "output_type": "execute_result"
    }
   ],
   "source": [
    "def factorial(n):\n",
    "    fact=1\n",
    "    for i in range(1,n+1):\n",
    "        fact*=i\n",
    "    return fact\n",
    "\n",
    "factorial(3)"
   ]
  },
  {
   "cell_type": "markdown",
   "metadata": {},
   "source": [
    "#### 6. Find if given number is prime or not"
   ]
  },
  {
   "cell_type": "code",
   "execution_count": 31,
   "metadata": {},
   "outputs": [
    {
     "data": {
      "text/plain": [
       "False"
      ]
     },
     "execution_count": 31,
     "metadata": {},
     "output_type": "execute_result"
    }
   ],
   "source": [
    "def is_prime(n):\n",
    "    for i in range(2,int(n)):\n",
    "        if n%i==0:\n",
    "            return False\n",
    "    return True \n",
    "\n",
    "is_prime(4)"
   ]
  },
  {
   "cell_type": "markdown",
   "metadata": {},
   "source": [
    "#### 7. Write a program to reverse a list"
   ]
  },
  {
   "cell_type": "code",
   "execution_count": 22,
   "metadata": {},
   "outputs": [
    {
     "data": {
      "text/plain": [
       "[89, 12, 67, 14, 90, 78]"
      ]
     },
     "execution_count": 22,
     "metadata": {},
     "output_type": "execute_result"
    }
   ],
   "source": [
    "s=[78,90,14,67,12,89]\n",
    "s[::-1]"
   ]
  },
  {
   "cell_type": "markdown",
   "metadata": {},
   "source": [
    "#### 8. Write a program to add all even elements in list from 1 to 100"
   ]
  },
  {
   "cell_type": "code",
   "execution_count": 26,
   "metadata": {},
   "outputs": [
    {
     "data": {
      "text/plain": [
       "2550"
      ]
     },
     "execution_count": 26,
     "metadata": {},
     "output_type": "execute_result"
    }
   ],
   "source": [
    "x = [i for i in range(1,101) if i%2==0]\n",
    "sum(x)"
   ]
  },
  {
   "cell_type": "markdown",
   "metadata": {},
   "source": [
    "#### 9. Write a program to print all odd numbers from list"
   ]
  },
  {
   "cell_type": "code",
   "execution_count": 27,
   "metadata": {},
   "outputs": [
    {
     "data": {
      "text/plain": [
       "2500"
      ]
     },
     "execution_count": 27,
     "metadata": {},
     "output_type": "execute_result"
    }
   ],
   "source": [
    "x = [i for i in range(1,101) if i%2!=0]\n",
    "sum(x)"
   ]
  },
  {
   "cell_type": "markdown",
   "metadata": {},
   "source": [
    "#### 10. Write a pogram to create a list of prime numbers from 2 to 100"
   ]
  },
  {
   "cell_type": "code",
   "execution_count": 32,
   "metadata": {},
   "outputs": [
    {
     "data": {
      "text/plain": [
       "[2,\n",
       " 3,\n",
       " 5,\n",
       " 7,\n",
       " 11,\n",
       " 13,\n",
       " 17,\n",
       " 19,\n",
       " 23,\n",
       " 29,\n",
       " 31,\n",
       " 37,\n",
       " 41,\n",
       " 43,\n",
       " 47,\n",
       " 53,\n",
       " 59,\n",
       " 61,\n",
       " 67,\n",
       " 71,\n",
       " 73,\n",
       " 79,\n",
       " 83,\n",
       " 89,\n",
       " 97]"
      ]
     },
     "execution_count": 32,
     "metadata": {},
     "output_type": "execute_result"
    }
   ],
   "source": [
    "x = [i for i in range(2,101) if is_prime(i)]\n",
    "x"
   ]
  },
  {
   "cell_type": "markdown",
   "metadata": {},
   "source": [
    "#### 11. Remove duplicate elements from list"
   ]
  },
  {
   "cell_type": "code",
   "execution_count": 33,
   "metadata": {},
   "outputs": [
    {
     "name": "stdout",
     "output_type": "stream",
     "text": [
      "[90, 7, 56, 33, 89, 12, 67]\n"
     ]
    }
   ],
   "source": [
    "elements=[90,7,90,56,33,89,90,12,67]\n",
    "no_duplicate=[]\n",
    "for i in elements:\n",
    "    if i not in no_duplicate:\n",
    "        no_duplicate.append(i)\n",
    "print(no_duplicate)"
   ]
  },
  {
   "cell_type": "markdown",
   "metadata": {},
   "source": [
    "#### 12. From given list of strings create another list of strings having 2 or more vowels"
   ]
  },
  {
   "cell_type": "code",
   "execution_count": 37,
   "metadata": {},
   "outputs": [
    {
     "name": "stdout",
     "output_type": "stream",
     "text": [
      "['aasam']\n"
     ]
    }
   ],
   "source": [
    "vowel = [\"a\", \"e\", \"i\", \"o\"]\n",
    "list_of_names = [\"ajay\", \"pratik\", \"aasam\"]\n",
    "\n",
    "# make list of strings that have 1 or more vowels\n",
    "def count_vowels(s):\n",
    "    count = 0\n",
    "    for i in s:\n",
    "        if i in vowel:\n",
    "            count += 1\n",
    "    return count\n",
    "\n",
    "\n",
    "c = [i for i in list_of_names if count_vowels(i.lower()) > 2]\n",
    "print(c)"
   ]
  },
  {
   "cell_type": "markdown",
   "metadata": {},
   "source": [
    "#### 13. Find out total count of prime numbers and odd numbers in given tuple"
   ]
  },
  {
   "cell_type": "code",
   "execution_count": 49,
   "metadata": {},
   "outputs": [
    {
     "name": "stdout",
     "output_type": "stream",
     "text": [
      "(4, 5)\n"
     ]
    }
   ],
   "source": [
    "def count_prime_odd(tuple1):\n",
    "    prime=0\n",
    "    odd=0\n",
    "    for i in tuple1:\n",
    "        if i%2!=0:\n",
    "            odd+=1\n",
    "            if is_prime(i):\n",
    "                prime+=1\n",
    "    return prime,odd\n",
    "\n",
    "        \n",
    "print(count_prime_odd((1,2,3,4,5,6,7,8,9)))            \n"
   ]
  },
  {
   "cell_type": "markdown",
   "metadata": {},
   "source": [
    "#### 14. Write a program to reverse given string."
   ]
  },
  {
   "cell_type": "code",
   "execution_count": 38,
   "metadata": {},
   "outputs": [
    {
     "data": {
      "text/plain": [
       "'emoh uoy era uoy era woh olleh'"
      ]
     },
     "execution_count": 38,
     "metadata": {},
     "output_type": "execute_result"
    }
   ],
   "source": [
    "s=\"hello how are you are you home\"\n",
    "s[::-1]"
   ]
  },
  {
   "cell_type": "markdown",
   "metadata": {},
   "source": [
    "#### 15. Write a program to find if given string is pangram (it should have all characters from a to z)"
   ]
  },
  {
   "cell_type": "code",
   "execution_count": 39,
   "metadata": {},
   "outputs": [
    {
     "name": "stdout",
     "output_type": "stream",
     "text": [
      "Is pangram\n"
     ]
    }
   ],
   "source": [
    "s=\"The quick brown fox jumps over the lazy dog\"\n",
    "s=s.replace(\" \",\"\")\n",
    "if len(set(s.lower()))==26:\n",
    "    print(\"Is pangram\")\n",
    "else:\n",
    "    print(\"Not pangram\")"
   ]
  },
  {
   "cell_type": "markdown",
   "metadata": {},
   "source": [
    "#### 16. Write a program to find if given string is anagram (it should have same charachters in any rotation)\n"
   ]
  },
  {
   "cell_type": "code",
   "execution_count": 40,
   "metadata": {},
   "outputs": [
    {
     "name": "stdout",
     "output_type": "stream",
     "text": [
      "Anagram\n"
     ]
    }
   ],
   "source": [
    "s1=\"madam\"\n",
    "s2=\"damam\"\n",
    "\n",
    "if sorted(s1)==sorted(s2):\n",
    "    print(\"Anagram\")\n",
    "else:\n",
    "    print(\"Not Anagram\")"
   ]
  },
  {
   "cell_type": "markdown",
   "metadata": {},
   "source": [
    "#### 17. Change the case of each vowel in given string (e.g. hEllo should be converted to hellO ,  uppercase should be converted to lower and vice versa)\n"
   ]
  },
  {
   "cell_type": "code",
   "execution_count": 47,
   "metadata": {},
   "outputs": [
    {
     "name": "stdout",
     "output_type": "stream",
     "text": [
      "thIis Iis thEe strIing thAat nEeEeds tOo bEe chAangEed\n"
     ]
    }
   ],
   "source": [
    "string = \"this is the string that needs to be changed\"\n",
    "def vowel_casechange(string):\n",
    "    case_change=\"\"\n",
    "    for i in string:\n",
    "        if i.lower() in [\"a\",\"e\",\"i\",\"o\",\"u\"]:\n",
    "            if i.isupper():\n",
    "                case_change+=i.lower()\n",
    "            else:\n",
    "                case_change+=i.upper()\n",
    "        case_change+=i\n",
    "    return case_change\n",
    "print(vowel_casechange(string))\n"
   ]
  },
  {
   "cell_type": "markdown",
   "metadata": {},
   "source": [
    "#### 18. In cryptography, a Caesar cipher is a very simple encryption techniques in which each letter in the plain text is replaced by a letter some fixed number of positions down the alphabet. For example, with a shift of 3, A would be replaced by D, B would become E, and so on. The method is named after Julius Caesar, who used it to communicate with his generals. ROT-13 (\"rotate by 13 places\") is a widely used example of a Caesar cipher where the shift is 13. In Python, the key for ROT-13 may be represented by means of the following dictionary: key = {'a':'n', 'b':'o', 'c':'p', 'd':'q', 'e':'r', 'f':'s', 'g':'t', 'h':'u', 'i':'v', 'j':'w', 'k':'x', 'l':'y','m':'z', 'n':'a','o':'b','p':'c', 'q':'d', 'r':'e', 's':'f', 't':'g', 'u':'h', 'v':'i', 'w':'j', 'x':'k', 'y':'l', 'z':'m', 'A':'N', 'B':'O','C':'P', 'D':'Q','E':'R','F':'S', 'G':'T', 'H':'U', 'I':'V', 'J':'W', 'K':'X', 'L':'Y', 'M':'Z', 'N':'A', 'O':'B', 'P':'C', 'Q':'D', 'R':'E','S':'F', 'T':'G', 'U':'H', 'V':'I', 'W':'J', 'X':'K', 'Y':'L', 'Z':'M'} Your task in this exercise is to implement an encoder/decoder of ROT-13. Once you'redone, you will be able to read the following secret message: Pnrfne pvcure? V zhpu cersre Pnrfne fnynq! Note that since English has 26 characters, your ROT-13 program will be able to bothencode and decode texts written in English."
   ]
  },
  {
   "cell_type": "code",
   "execution_count": 1,
   "metadata": {},
   "outputs": [
    {
     "name": "stdout",
     "output_type": "stream",
     "text": [
      "Caesar cipher? I much prefer Caesar salad!\n",
      "Pnrfne pvcure? V zhpu cersre Pnrfne fnynq!\n"
     ]
    }
   ],
   "source": [
    "#Encoder and decoder\n",
    "keys={\n",
    " 'a': 'n', 'b': 'o', 'c': 'p', 'd': 'q', 'e': 'r', 'f': 's', 'g': 't', 'h': 'u',\n",
    " 'i': 'v', 'j': 'w', 'k': 'x', 'l': 'y', 'm': 'z', 'n': 'a', 'o': 'b', 'p': 'c',\n",
    " 'q': 'd', 'r': 'e', 's': 'f', 't': 'g', 'u': 'h', 'v': 'i', 'w': 'j', 'x': 'k',\n",
    " 'y': 'l', 'z': 'm',\n",
    " 'A': 'N', 'B': 'O', 'C': 'P', 'D': 'Q', 'E': 'R', 'F': 'S', 'G': 'T', 'H': 'U',\n",
    " 'I': 'V', 'J': 'W', 'K': 'X', 'L': 'Y', 'M': 'Z', 'N': 'A', 'O': 'B', 'P': 'C',\n",
    " 'Q': 'D', 'R': 'E', 'S': 'F', 'T': 'G', 'U': 'H', 'V': 'I', 'W': 'J', 'X': 'K',\n",
    " 'Y': 'L', 'Z': 'M'\n",
    "}\n",
    "\n",
    "#Decode\n",
    "string_to_decoder=\"Pnrfne pvcure? V zhpu cersre Pnrfne fnynq!\"\n",
    "decoded_string=\"\"\n",
    "for i in string_to_decoder:\n",
    "    if i.isalpha():\n",
    "        decoded_string+=keys.get(i)\n",
    "    else:\n",
    "        decoded_string+=i\n",
    "print(decoded_string)\n",
    "\n",
    "#Encode\n",
    "encoded_string=\"\"\n",
    "for i in decoded_string:\n",
    "    if i.isalpha():\n",
    "        encoded_string+=keys.get(i)\n",
    "    else:\n",
    "        encoded_string+=i\n",
    "print(encoded_string)\n"
   ]
  }
 ],
 "metadata": {
  "kernelspec": {
   "display_name": "Python 3",
   "language": "python",
   "name": "python3"
  },
  "language_info": {
   "codemirror_mode": {
    "name": "ipython",
    "version": 3
   },
   "file_extension": ".py",
   "mimetype": "text/x-python",
   "name": "python",
   "nbconvert_exporter": "python",
   "pygments_lexer": "ipython3",
   "version": "3.10.0"
  }
 },
 "nbformat": 4,
 "nbformat_minor": 2
}
