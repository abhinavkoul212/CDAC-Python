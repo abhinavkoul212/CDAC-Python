{
 "cells": [
  {
   "cell_type": "markdown",
   "metadata": {},
   "source": [
    "# Assignment 2:"
   ]
  },
  {
   "cell_type": "markdown",
   "metadata": {},
   "source": [
    "#### 1.Write a function to add n numbers\n"
   ]
  },
  {
   "cell_type": "code",
   "execution_count": 34,
   "metadata": {},
   "outputs": [
    {
     "name": "stdout",
     "output_type": "stream",
     "text": [
      "28\n"
     ]
    }
   ],
   "source": [
    "def add_n_numbers(*arg:int)->int:\n",
    "    try:\n",
    "        sum=0\n",
    "        for i in arg:\n",
    "            sum+=i\n",
    "        return sum\n",
    "    except Exception as e:\n",
    "        print(\"Invalid Data!\")\n",
    "        return 0\n",
    "    \n",
    "\n",
    "print(add_n_numbers(1,2,3,4,5,6,7))"
   ]
  },
  {
   "cell_type": "markdown",
   "metadata": {},
   "source": [
    "#### 2. Write a function to take two parameters first is list second is int n e.g performAction(mylist,n) create new list after every nth element from mylist\n"
   ]
  },
  {
   "cell_type": "code",
   "execution_count": 27,
   "metadata": {},
   "outputs": [
    {
     "data": {
      "text/plain": [
       "[[1, 2, 3, 4], [5, 6, 7, 8], [8]]"
      ]
     },
     "execution_count": 27,
     "metadata": {},
     "output_type": "execute_result"
    }
   ],
   "source": [
    "from math import ceil\n",
    "def split_list(list1,n):\n",
    "    try:\n",
    "        li=[]\n",
    "        iteration=ceil(len(list1)/n)\n",
    "        for i in range(iteration):\n",
    "            li.append(list1[i*(n):(i+1)*n])\n",
    "        return li\n",
    "    except Exception as e:\n",
    "        print(e)\n",
    "split_list([1,2,3,4,5,6,7,8,8],4)\n",
    "\n",
    "    "
   ]
  },
  {
   "cell_type": "markdown",
   "metadata": {},
   "source": [
    "#### 3. Take two string lists (namelist, surnamelist) as parameters for a function and final output should be like [name1 surname1, name2 surname2.....]\n"
   ]
  },
  {
   "cell_type": "code",
   "execution_count": 15,
   "metadata": {},
   "outputs": [
    {
     "name": "stdout",
     "output_type": "stream",
     "text": [
      "['Harsh Ekbote', 'Kaustubh Bhor']\n"
     ]
    }
   ],
   "source": [
    "def concat_str(namelist:list[str], surnamelist:list[str])->list[str]:\n",
    "    try:\n",
    "        combine_list=[]\n",
    "        for i in range(len(namelist)):\n",
    "            combine_list.append(f\"{namelist[i]} {surnamelist[i]}\")\n",
    "        return combine_list\n",
    "    except Exception as e:\n",
    "        print(e)\n",
    "print(concat_str([\"Harsh\",\"Kaustubh\"],[\"Ekbote\",\"Bhor\"]))"
   ]
  },
  {
   "cell_type": "markdown",
   "metadata": {},
   "source": [
    "#### 4. Write a function to seperate elements from given iterable (list, tuple, set) and create 3 different lists for oddnumber, even numbers and prime numbers"
   ]
  },
  {
   "cell_type": "code",
   "execution_count": 33,
   "metadata": {},
   "outputs": [
    {
     "name": "stdout",
     "output_type": "stream",
     "text": [
      "List input  ([3, 5, 7, 9], [2, 4, 4, 6, 8, 10], [2, 3, 5, 7])\n",
      "Tuple input  ([3, 5, 7, 9], [2, 4, 4, 6, 8, 10], [2, 3, 5, 7])\n",
      "Set input  ([3, 5, 7, 9], [2, 4, 6, 8, 10], [2, 3, 5, 7])\n"
     ]
    }
   ],
   "source": [
    "def is_prime(n:int)->bool:\n",
    "    if n == 2:\n",
    "        return True\n",
    "    for i in range(2,int(n)):\n",
    "        if n%i==0:\n",
    "            return False\n",
    "    return True \n",
    "\n",
    "\n",
    "def get_odd_even_prime(list1:list)->list:\n",
    "    odd=[]\n",
    "    even=[]\n",
    "    prime=[]\n",
    "    for i in list1:\n",
    "        if i%2==0:\n",
    "            if i==2:\n",
    "                prime.append(i)\n",
    "            even.append(i)\n",
    "        elif i>=2:\n",
    "            odd.append(i)\n",
    "            if is_prime(i):\n",
    "                prime.append(i)\n",
    "    return odd,even,prime\n",
    "\n",
    "print(\"List input \",get_odd_even_prime([1,2,3,4,4,5,6,7,8,9,10]))\n",
    "print(\"Tuple input \",get_odd_even_prime((1,2,3,4,4,5,6,7,8,9,10)))\n",
    "set1=set([1,2,3,4,4,5,6,7,8,9,10])\n",
    "print(\"Set input \",get_odd_even_prime(set1))"
   ]
  }
 ],
 "metadata": {
  "kernelspec": {
   "display_name": "venv",
   "language": "python",
   "name": "python3"
  },
  "language_info": {
   "codemirror_mode": {
    "name": "ipython",
    "version": 3
   },
   "file_extension": ".py",
   "mimetype": "text/x-python",
   "name": "python",
   "nbconvert_exporter": "python",
   "pygments_lexer": "ipython3",
   "version": "3.13.2"
  }
 },
 "nbformat": 4,
 "nbformat_minor": 2
}
